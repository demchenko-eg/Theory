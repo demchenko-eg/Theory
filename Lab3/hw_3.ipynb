{
  "cells": [
    {
      "cell_type": "markdown",
      "metadata": {
        "id": "e5mobm6U07x-"
      },
      "source": [
        "## 1 Задача 1.3.12\n",
        "Знайти ймовiрнiсть того, що серед трьох цифр, кожна з яких вибрана навмання, буде лише 1, 2, 3 рiзних.\n",
        "\n",
        "Обчисліть теоретичну (повним перебором) та еміричну (симулюванням $100000$ експериментів) імовірності."
      ]
    },
    {
      "cell_type": "code",
      "execution_count": 2,
      "metadata": {
        "collapsed": true,
        "id": "bJZTUSsr07x_"
      },
      "outputs": [
        {
          "name": "stdout",
          "output_type": "stream",
          "text": [
            "Теоретична ймовірність: 0.006\n",
            "Емпірична ймовірність (на основі 100000 експериментів): 0.00622\n"
          ]
        }
      ],
      "source": [
        "import random\n",
        "\n",
        "total_outcomes = 10**3\n",
        "favorable_outcomes = 0\n",
        "for d1 in range(10):\n",
        "    for d2 in range(10):\n",
        "        for d3 in range(10):\n",
        "            if {d1, d2, d3} == {1, 2, 3}:\n",
        "                favorable_outcomes += 1\n",
        "theoretical_probability = favorable_outcomes / total_outcomes\n",
        "print(\"Теоретична ймовірність:\", theoretical_probability)\n",
        "trials = 100000\n",
        "success_count = 0\n",
        "for _ in range(trials):\n",
        "    digits = [random.randint(0, 9) for _ in range(3)]\n",
        "    if set(digits) == {1, 2, 3}:\n",
        "        success_count += 1\n",
        "empirical_probability = success_count / trials\n",
        "print(\"Емпірична ймовірність (на основі 100000 експериментів):\", empirical_probability)"
      ]
    },
    {
      "cell_type": "markdown",
      "metadata": {
        "id": "x0yEK8Tz07yB"
      },
      "source": [
        "# 2 Задача 1.3.14\n",
        "З послiдовностi чисел $1, 2, . . . , n$ вибирають навмання $k$ рiзних чисел.\n",
        "Яка ймовiрнiсть того, що:\n",
        "1. кожне з вибраних чисел кратне даному числу $p$;\n",
        "2. кожне з вибраних чисел кратне хоча б одному з двох взаємно простих чисел $p$ i $q$;\n",
        "3. серед вибраних чисел є хоча б одне кратне $p$?\n",
        "\n",
        "Напишіть  відповідні функції для обрахунку теоретичної (повним перебором) та еміричної (симулюванням $100000$ експериментів) імовірностей в залежності від параметрів $n, k, p, q$.\n",
        "Виведіть результат для\n",
        "- $n = 25, k = 5, p = 3, q = 4$;\n",
        "- $n = 25, k = 10, p = 3, q = 4$."
      ]
    },
    {
      "cell_type": "code",
      "execution_count": 3,
      "metadata": {
        "collapsed": true,
        "id": "MVkPBwh307yC"
      },
      "outputs": [
        {
          "name": "stdout",
          "output_type": "stream",
          "text": [
            "n=25, k=5, p=3, q=4\n",
            "Кожне з вибраних чисел кратне p: 0.001054018445322793 0.00102\n",
            "Кожне з вибраних чисел кратне хоча б одному з p чи q: 0.014906832298136646 0.01491\n",
            "Є хоча б одне число кратне p: 0.8835309617918313 0.88268\n",
            "n=25, k=10, p=3, q=4\n",
            "Кожне з вибраних чисел кратне p: 0.0 0.0\n",
            "Кожне з вибраних чисел кратне хоча б одному з p чи q: 2.0191142818683536e-05 1e-05\n",
            "Є хоча б одне число кратне p: 0.9940503432494279 0.99379\n"
          ]
        }
      ],
      "source": [
        "import itertools\n",
        "import random\n",
        "\n",
        "def f1(n, k, p):\n",
        "    total = 0\n",
        "    favorable = 0\n",
        "    for comb in itertools.combinations(range(1, n+1), k):\n",
        "        total += 1\n",
        "        if all(x % p == 0 for x in comb):\n",
        "            favorable += 1\n",
        "    return favorable / total if total > 0 else 0\n",
        "\n",
        "def f2(n, k, p, trials=100000):\n",
        "    favorable = 0\n",
        "    for _ in range(trials):\n",
        "        comb = random.sample(range(1, n+1), k)\n",
        "        if all(x % p == 0 for x in comb):\n",
        "            favorable += 1\n",
        "    return favorable / trials\n",
        "\n",
        "def f3(n, k, p, q):\n",
        "    total = 0\n",
        "    favorable = 0\n",
        "    for comb in itertools.combinations(range(1, n+1), k):\n",
        "        total += 1\n",
        "        if all((x % p == 0) or (x % q == 0) for x in comb):\n",
        "            favorable += 1\n",
        "    return favorable / total if total > 0 else 0\n",
        "\n",
        "def f4(n, k, p, q, trials=100000):\n",
        "    favorable = 0\n",
        "    for _ in range(trials):\n",
        "        comb = random.sample(range(1, n+1), k)\n",
        "        if all((x % p == 0) or (x % q == 0) for x in comb):\n",
        "            favorable += 1\n",
        "    return favorable / trials\n",
        "\n",
        "def f5(n, k, p):\n",
        "    total = 0\n",
        "    favorable = 0\n",
        "    for comb in itertools.combinations(range(1, n+1), k):\n",
        "        total += 1\n",
        "        if any(x % p == 0 for x in comb):\n",
        "            favorable += 1\n",
        "    return favorable / total if total > 0 else 0\n",
        "\n",
        "def f6(n, k, p, trials=100000):\n",
        "    favorable = 0\n",
        "    for _ in range(trials):\n",
        "        comb = random.sample(range(1, n+1), k)\n",
        "        if any(x % p == 0 for x in comb):\n",
        "            favorable += 1\n",
        "    return favorable / trials\n",
        "\n",
        "params = [(25, 5, 3, 4), (25, 10, 3, 4)]\n",
        "for n, k, p, q in params:\n",
        "    tp1 = f1(n, k, p)\n",
        "    ep1 = f2(n, k, p)\n",
        "    tp2 = f3(n, k, p, q)\n",
        "    ep2 = f4(n, k, p, q)\n",
        "    tp3 = f5(n, k, p)\n",
        "    ep3 = f6(n, k, p)\n",
        "    print(f\"n={n}, k={k}, p={p}, q={q}\")\n",
        "    print(\"Кожне з вибраних чисел кратне p:\", tp1, ep1)\n",
        "    print(\"Кожне з вибраних чисел кратне хоча б одному з p чи q:\", tp2, ep2)\n",
        "    print(\"Є хоча б одне число кратне p:\", tp3, ep3)"
      ]
    },
    {
      "cell_type": "markdown",
      "metadata": {
        "id": "nr2geQ6J07yE"
      },
      "source": [
        "# 3 Задача 1.4.6\n",
        "В коморi знаходяться $n$ пар черевикiв.\n",
        "З них випадковим чином вибираються $2k$ черевикiв.\n",
        "Яка ймовiрнiсть того, що серед вибраних черевикiв:\n",
        "1. вiдсутнi парнi;\n",
        "2. є рiвно одна комплектна пара;\n",
        "3. є двi комплектнi пари?\n",
        "\n",
        "Напишіть  відповідні функції для обрахунку теоретичної (повним перебором) та еміричної (симулюванням $100000$ експериментів) імовірностей в залежності від параметрів $n, k$.\n",
        "Виведіть результат для\n",
        "- $n = 8, k = 4$;\n",
        "- $n = 13, k = 5$."
      ]
    },
    {
      "cell_type": "code",
      "execution_count": 4,
      "metadata": {
        "collapsed": true,
        "id": "gbLZ14mx07yG"
      },
      "outputs": [
        {
          "name": "stdout",
          "output_type": "stream",
          "text": [
            "n=8, k=4\n",
            "Відсутні пари: 0.01989121989121989 0.02007\n",
            "Рівно одна пара: 0.2784770784770785 0.27821\n",
            "Дві пари: 0.5221445221445221 0.52124\n",
            "n=13, k=5\n",
            "Відсутні пари: 0.05513528065688518 0.05507\n",
            "Рівно одна пара: 0.31013595369497915 0.31138\n",
            "Дві пари: 0.4341903351729708 0.43451\n"
          ]
        }
      ],
      "source": [
        "import itertools, random, math\n",
        "\n",
        "def theor_no_pairs(n, k):\n",
        "    return (math.comb(n, 2*k) * (2**(2*k))) / math.comb(2*n, 2*k)\n",
        "\n",
        "def empir_no_pairs(n, k, trials=100000):\n",
        "    count = 0\n",
        "    shoes = [(i, j) for i in range(n) for j in (0, 1)]\n",
        "    for _ in range(trials):\n",
        "        sample = random.sample(shoes, 2*k)\n",
        "        pairs = {}\n",
        "        for pair, _ in sample:\n",
        "            pairs[pair] = pairs.get(pair, 0) + 1\n",
        "        if all(v < 2 for v in pairs.values()):\n",
        "            count += 1\n",
        "    return count / trials\n",
        "\n",
        "def theor_one_pair(n, k):\n",
        "    return (math.comb(n, 1) * math.comb(n-1, 2*k-2) * (2**(2*k-2))) / math.comb(2*n, 2*k)\n",
        "\n",
        "def empir_one_pair(n, k, trials=100000):\n",
        "    count = 0\n",
        "    shoes = [(i, j) for i in range(n) for j in (0, 1)]\n",
        "    for _ in range(trials):\n",
        "        sample = random.sample(shoes, 2*k)\n",
        "        pair_count = {}\n",
        "        for pair, _ in sample:\n",
        "            pair_count[pair] = pair_count.get(pair, 0) + 1\n",
        "        if list(pair_count.values()).count(2) == 1:\n",
        "            count += 1\n",
        "    return count / trials\n",
        "\n",
        "def theor_two_pairs(n, k):\n",
        "    return (math.comb(n, 2) * math.comb(n-2, 2*k-4) * (2**(2*k-4))) / math.comb(2*n, 2*k)\n",
        "\n",
        "def empir_two_pairs(n, k, trials=100000):\n",
        "    count = 0\n",
        "    shoes = [(i, j) for i in range(n) for j in (0, 1)]\n",
        "    for _ in range(trials):\n",
        "        sample = random.sample(shoes, 2*k)\n",
        "        pair_count = {}\n",
        "        for pair, _ in sample:\n",
        "            pair_count[pair] = pair_count.get(pair, 0) + 1\n",
        "        if list(pair_count.values()).count(2) == 2:\n",
        "            count += 1\n",
        "    return count / trials\n",
        "\n",
        "params = [(8, 4), (13, 5)]\n",
        "for n, k in params:\n",
        "    t1 = theor_no_pairs(n, k)\n",
        "    e1 = empir_no_pairs(n, k)\n",
        "    t2 = theor_one_pair(n, k)\n",
        "    e2 = empir_one_pair(n, k)\n",
        "    t3 = theor_two_pairs(n, k)\n",
        "    e3 = empir_two_pairs(n, k)\n",
        "    print(f\"n={n}, k={k}\")\n",
        "    print(\"Відсутні пари:\", t1, e1)\n",
        "    print(\"Рівно одна пара:\", t2, e2)\n",
        "    print(\"Дві пари:\", t3, e3)"
      ]
    },
    {
      "cell_type": "markdown",
      "metadata": {
        "id": "pFj62c8p07yH"
      },
      "source": [
        "# 4 Задача 1.2.15\n",
        "Нехай $\\Omega = {1, 2, \\ldots, 2n}$.\n",
        "Всiм числам приписанi ймовiрностi, пропорцiйнi логарифмам цих чисел.\n",
        "Знайти цi ймовiрностi.\n",
        "Знайти ймовiрнiсть того, що в результатi експерименту з’явиться:\n",
        "1. парне число;\n",
        "2. непарне число.\n",
        "\n",
        "Напишіть функцію для обрахунку еміричної (симулюванням $100000$ експериментів) імовірності в залежності від параметра $n$.\n",
        "Виведіть результат для\n",
        "- $n = 10$;\n",
        "- $n = 25$."
      ]
    },
    {
      "cell_type": "code",
      "execution_count": 5,
      "metadata": {
        "collapsed": true,
        "id": "p50Ac9jj07yI"
      },
      "outputs": [
        {
          "name": "stdout",
          "output_type": "stream",
          "text": [
            "n = 10\n",
            "Теоретична ймовірність парного: 0.5205046299279228 непарного: 0.4794953700720772\n",
            "Емпірична ймовірність парного: 0.52008 непарного: 0.47992\n",
            "n = 25\n",
            "Теоретична ймовірність парного: 0.5073640739858903 непарного: 0.49263592601410966\n",
            "Емпірична ймовірність парного: 0.50849 непарного: 0.49151\n"
          ]
        }
      ],
      "source": [
        "import math, random\n",
        "\n",
        "def empirical_probabilities(n, trials=100000):\n",
        "    omega = list(range(1, 2*n+1))\n",
        "    weights = [math.log(x) for x in omega]\n",
        "    even_count = 0\n",
        "    odd_count = 0\n",
        "    for _ in range(trials):\n",
        "        x = random.choices(omega, weights=weights, k=1)[0]\n",
        "        if x % 2 == 0:\n",
        "            even_count += 1\n",
        "        else:\n",
        "            odd_count += 1\n",
        "    return even_count / trials, odd_count / trials\n",
        "\n",
        "def theoretical_probabilities(n):\n",
        "    omega = list(range(1, 2*n+1))\n",
        "    weights = [math.log(x) for x in omega]\n",
        "    total = sum(weights)\n",
        "    even_prob = sum(math.log(x) for x in omega if x % 2 == 0) / total\n",
        "    odd_prob = sum(math.log(x) for x in omega if x % 2 == 1) / total\n",
        "    return even_prob, odd_prob\n",
        "\n",
        "for n in [10, 25]:\n",
        "    tp_even, tp_odd = theoretical_probabilities(n)\n",
        "    ep_even, ep_odd = empirical_probabilities(n)\n",
        "    print(f\"n = {n}\")\n",
        "    print(\"Теоретична ймовірність парного:\", tp_even, \"непарного:\", tp_odd)\n",
        "    print(\"Емпірична ймовірність парного:\", ep_even, \"непарного:\", ep_odd)"
      ]
    }
  ],
  "metadata": {
    "colab": {
      "provenance": []
    },
    "kernelspec": {
      "display_name": "Python 3",
      "language": "python",
      "name": "python3"
    },
    "language_info": {
      "codemirror_mode": {
        "name": "ipython",
        "version": 3
      },
      "file_extension": ".py",
      "mimetype": "text/x-python",
      "name": "python",
      "nbconvert_exporter": "python",
      "pygments_lexer": "ipython3",
      "version": "3.12.5"
    }
  },
  "nbformat": 4,
  "nbformat_minor": 0
}
