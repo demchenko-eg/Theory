{
 "cells": [
  {
   "cell_type": "markdown",
   "id": "1ed4c7",
   "metadata": {
    "collapsed": false,
    "id": "q974EZ657M75"
   },
   "source": [
    "# Домашня робота №5"
   ]
  },
  {
   "cell_type": "markdown",
   "id": "608e44",
   "metadata": {
    "collapsed": false,
    "id": "pLXmTQFy7M78"
   },
   "source": [
    "# Математичне сподівання та дисперсія"
   ]
  },
  {
   "cell_type": "markdown",
   "id": "f8d08e",
   "metadata": {
    "collapsed": false,
    "id": "_8gs3J3S7M79"
   },
   "source": [
    "## 1 Порівняння"
   ]
  },
  {
   "cell_type": "markdown",
   "id": "90a8b8",
   "metadata": {
    "collapsed": false,
    "id": "eNxE8ht07M7_"
   },
   "source": [
    "1. Реалізуйте функцію для підрахунку математичного сподівання випадкової величини $\\xi$, заданої в класі **scipy.stats**, усіма можливими способами:\n",
    "   - за допомогою методу **mean**;\n",
    "   - за допомогою методу **expect**;\n",
    "   - за допомогою методу **stats**.\n",
    "\n",
    "2. Реалізуйте функцію для підрахунку дисперсії випадкової величини $\\xi$, заданої в класі **scipy.stats**, усіма можливими способами:\n",
    "   - за допомогою методу **var**;\n",
    "   - за допомогою методу **expect** та формули для дисперсії\n",
    "$\\mathsf{D}(\\xi) = \\mathsf{E} \\left[ \\left( \\xi - \\mathsf{E}[\\xi] \\right)^2 \\right]$;\n",
    "   - за допомогою методу **expect** та формули для дисперсії\n",
    "$\\mathsf{D}(\\xi) = \\mathsf{E}[\\xi^2] - \\left( \\mathsf{E}[\\xi] \\right)^2$;\n",
    "   - за допомогою методу **stats**.\n",
    "\n",
    "3. Порахуйте математичне сподівання та дисперсію, використовуючи функції з пунктів **1., 2.**, і порівняйте (виведіть різницю) їх із теоретичними значеннями, використовуючи формули з лекцій, для таких випадкових величин(оберіть 2 на вибір):\n",
    "   - $\\xi \\sim Binom(10, 0.4)$ (біноміальний розподіл);\n",
    "   - $\\xi \\sim Geom(0.5)$ (геометричний розподіл);\n",
    "   - $\\xi \\sim Pois(0.6)$ (розподіл Пуассона);\n",
    "   - $\\xi \\sim NBinom(5, 0.4)$ (від'ємний біноміальний розподіл);\n",
    "   - $\\xi \\sim HGeom(20, 7, 12)$ (гіпергеометричний розподіл);\n",
    "   - $\\xi \\sim Unif(0, 1)$ (рівномірний розподіл);\n",
    "   - $\\xi \\sim Exp(0.5)$ (експоненційний (показниковий) розподіл);\n",
    "   - $\\xi \\sim N(0, 1)$ (нормальний розподіл);\n",
    "   - $\\xi \\sim \\Gamma(2)$ (гамма розподіл);\n",
    "   - $\\xi \\sim LogNorm(0, 1)$ (логнормальний розподіл);\n",
    "   - $\\xi \\sim B(2, 1.1)$ (бета розподіл)."
   ]
  },
  {
   "cell_type": "code",
   "execution_count": 3,
   "id": "a15046",
   "metadata": {
    "collapsed": false,
    "id": "abNr1TcH7M8A"
   },
   "outputs": [
    {
     "name": "stdout",
     "output_type": "stream",
     "text": [
      "### Біноміальний розподіл Binom(10, 0.4)\n",
      "--- Binom(10, 0.4) ---\n",
      "Mean:\n",
      "  mean()      : 4.0\n",
      "  expect()    : 3.9999999999999982\n",
      "  stats()     : 4.0\n",
      "Variance:\n",
      "  var()       : 2.4\n",
      "  expect()    : 2.3999999999999977   (E[(X - E[X])^2])\n",
      "              : 2.4000000000000092   (E[X^2] - (E[X])^2)\n",
      "  stats()     : 2.4\n",
      "\n",
      "Теоретичні значення:\n",
      "  E = 4.0, Var = 2.4\n",
      "\n",
      "Різниці:\n",
      "  ΔE = 0.0\n",
      "  ΔVar = 0.0\n",
      "\n",
      "### Геометричний розподіл Geom(0.5)\n",
      "--- Geom(0.5) ---\n",
      "Mean:\n",
      "  mean()      : 2.0\n",
      "  expect()    : 2.0\n",
      "  stats()     : 2.0\n",
      "Variance:\n",
      "  var()       : 2.0\n",
      "  expect()    : 2.0   (E[(X - E[X])^2])\n",
      "              : 2.0   (E[X^2] - (E[X])^2)\n",
      "  stats()     : 2.0\n",
      "\n",
      "Теоретичні значення:\n",
      "  E = 2.0, Var = 2.0\n",
      "\n",
      "Різниці:\n",
      "  ΔE = 0.0\n",
      "  ΔVar = 0.0\n"
     ]
    }
   ],
   "source": [
    "import numpy as np\n",
    "from scipy.stats import binom, geom\n",
    "import math\n",
    "\n",
    "def compute_stats(dist, dist_name=\"\"):\n",
    "    mean_method = dist.mean()\n",
    "    var_method = dist.var()\n",
    "    mean_expect = dist.expect()\n",
    "    f_disp = lambda x: (x - mean_expect)**2\n",
    "    var_expect1 = dist.expect(f_disp)\n",
    "    f_square = lambda x: x**2\n",
    "    mean_square = dist.expect(f_square)\n",
    "    var_expect2 = mean_square - mean_expect**2\n",
    "    stats_str = dist.stats(moments='mv')\n",
    "    mean_stats, var_stats = stats_str\n",
    "    print(f\"--- {dist_name} ---\")\n",
    "    print(\"Mean:\")\n",
    "    print(f\"  mean()      : {mean_method}\")\n",
    "    print(f\"  expect()    : {mean_expect}\")\n",
    "    print(f\"  stats()     : {mean_stats}\")\n",
    "    print(\"Variance:\")\n",
    "    print(f\"  var()       : {var_method}\")\n",
    "    print(f\"  expect()    : {var_expect1}   (E[(X - E[X])^2])\")\n",
    "    print(f\"              : {var_expect2}   (E[X^2] - (E[X])^2)\")\n",
    "    print(f\"  stats()     : {var_stats}\")\n",
    "    print()\n",
    "n_binom, p_binom = 10, 0.4\n",
    "binom_dist = binom(n=n_binom, p=p_binom)\n",
    "theor_mean_binom = n_binom * p_binom\n",
    "theor_var_binom = n_binom * p_binom * (1 - p_binom)\n",
    "print(\"### Біноміальний розподіл Binom(10, 0.4)\")\n",
    "compute_stats(binom_dist, \"Binom(10, 0.4)\")\n",
    "print(\"Теоретичні значення:\")\n",
    "print(f\"  E = {theor_mean_binom}, Var = {theor_var_binom}\\n\")\n",
    "print(\"Різниці:\")\n",
    "print(f\"  ΔE = {abs(binom_dist.mean() - theor_mean_binom)}\")\n",
    "print(f\"  ΔVar = {abs(binom_dist.var() - theor_var_binom)}\\n\")\n",
    "p_geom = 0.5\n",
    "geom_dist = geom(p=p_geom)\n",
    "theor_mean_geom = 1 / p_geom\n",
    "theor_var_geom = (1 - p_geom) / (p_geom**2)\n",
    "print(\"### Геометричний розподіл Geom(0.5)\")\n",
    "compute_stats(geom_dist, \"Geom(0.5)\")\n",
    "print(\"Теоретичні значення:\")\n",
    "print(f\"  E = {theor_mean_geom}, Var = {theor_var_geom}\\n\")\n",
    "print(\"Різниці:\")\n",
    "print(f\"  ΔE = {abs(geom_dist.mean() - theor_mean_geom)}\")\n",
    "print(f\"  ΔVar = {abs(geom_dist.var() - theor_var_geom)}\")"
   ]
  },
  {
   "cell_type": "markdown",
   "id": "7242d4",
   "metadata": {
    "collapsed": false,
    "id": "m_VxST4Z7M8P"
   },
   "source": [
    "## 2 Унікальні цифри"
   ]
  },
  {
   "cell_type": "markdown",
   "id": "5f3a5e",
   "metadata": {
    "collapsed": false,
    "id": "UXxueiRo7M8Q"
   },
   "source": [
    "Нехай випадковим чином вибирають послідовно $n$ цифр (цифри можуть повторюватися, вибірка з поверненням).\n",
    "Нехай тоді випадкова величина $\\xi$ - це кількість унікальних цифр в отриманому наборі.\n",
    "\n",
    "Напишіть функцію для обрахунку математичного сподівання та дисперсії випадкової величини $\\xi$ в залежності від кількості $n$ цифр у наборі методом повного перебору.\n",
    "Виведіть результат для $n = 1, 2, 3, 4, 5, 6, 7.$"
   ]
  },
  {
   "cell_type": "code",
   "execution_count": 4,
   "id": "09fc4a",
   "metadata": {
    "collapsed": false,
    "id": "m922JuJk7M8Q"
   },
   "outputs": [
    {
     "name": "stdout",
     "output_type": "stream",
     "text": [
      "Унікальні цифри (повний перебір):\n",
      "n = 1: E = 1.00000, Var = 0.00000\n",
      "n = 2: E = 1.90000, Var = 0.09000\n",
      "n = 3: E = 2.71000, Var = 0.22590\n",
      "n = 4: E = 3.43900, Var = 0.37828\n",
      "n = 5: E = 4.09510, Var = 0.52826\n",
      "n = 6: E = 4.68559, Var = 0.66442\n",
      "n = 7: E = 5.21703, Var = 0.78054\n"
     ]
    }
   ],
   "source": [
    "import math\n",
    "\n",
    "def generate_partitions(n, k):\n",
    "    if k == 1:\n",
    "        yield (n,)\n",
    "    else:\n",
    "        for i in range(n + 1):\n",
    "            for tail in generate_partitions(n - i, k - 1):\n",
    "                yield (i,) + tail\n",
    "\n",
    "def unique_digits_stats(n):\n",
    "    total_prob = 0.0\n",
    "    exp_val = 0.0\n",
    "    exp_val_sq = 0.0\n",
    "    for partition in generate_partitions(n, 10):\n",
    "        unique_count = sum(1 for count in partition if count > 0)\n",
    "        ways = math.factorial(n)\n",
    "        for count in partition:\n",
    "            ways //= math.factorial(count)\n",
    "        prob = ways / (10**n)\n",
    "        exp_val += unique_count * prob\n",
    "        exp_val_sq += (unique_count**2) * prob\n",
    "        total_prob += prob\n",
    "    variance = exp_val_sq - exp_val**2\n",
    "    return exp_val, variance\n",
    "\n",
    "print(\"Унікальні цифри (повний перебір):\")\n",
    "for n in range(1, 8):\n",
    "    E, var = unique_digits_stats(n)\n",
    "    print(f\"n = {n}: E = {E:.5f}, Var = {var:.5f}\")"
   ]
  },
  {
   "cell_type": "markdown",
   "id": "a9ca4f",
   "metadata": {
    "collapsed": false,
    "id": "yNYille67M8V"
   },
   "source": [
    "## 3 Парадокс днів народження"
   ]
  },
  {
   "cell_type": "markdown",
   "id": "15d063",
   "metadata": {
    "collapsed": false,
    "id": "DRtqj9Lt7M8W"
   },
   "source": [
    "Нехай маємо $n$ людей.\n",
    "Їх дні народження припадають на один з 12 місяців.\n",
    "Нехай тоді випадкова величина $\\xi$ - це кількість співпадінь місяців народжень серед цих $n$ людей.\n",
    "\n",
    "Напишіть функцію для обрахунку математичного сподівання та дисперсії випадкової величини $\\xi$ в залежності від кількості $n$ людей методом повного перебору.\n",
    "Виведіть результат для $n = 1, 2, 3, 4, 5, 6.$\n",
    "\n",
    "Для якого $n$ виконується $\\mathsf{E}\\left[ \\xi \\right] \\geq 1$?\n",
    "\n",
    "**Зауваження.** Кількість співпадінь означає кількість однакових пар. Наприклад,\n",
    "- у наборі $\\{ 1, 1, 2, 3 \\}$ є одна пара;\n",
    "- у наборі $\\{ 1, 1, 1, 3 \\}$ є три пари;\n",
    "- у наборі $\\{ 1, 1, 1, 1 \\}$ є шість пар."
   ]
  },
  {
   "cell_type": "code",
   "execution_count": 5,
   "id": "1719dc",
   "metadata": {
    "collapsed": false,
    "id": "RZRYIjCX7M8W"
   },
   "outputs": [
    {
     "name": "stdout",
     "output_type": "stream",
     "text": [
      "Парадокс днів народження (повний перебір):\n",
      "n = 1: E = 0.00000, Var = 0.00000\n",
      "n = 2: E = 0.08333, Var = 0.07639\n",
      "n = 3: E = 0.25000, Var = 0.22917\n",
      "n = 4: E = 0.50000, Var = 0.45833\n"
     ]
    },
    {
     "name": "stdout",
     "output_type": "stream",
     "text": [
      "n = 5: E = 0.83333, Var = 0.76389\n"
     ]
    },
    {
     "name": "stdout",
     "output_type": "stream",
     "text": [
      "n = 6: E = 1.25000, Var = 1.14583\n"
     ]
    },
    {
     "name": "stdout",
     "output_type": "stream",
     "text": [
      "\n",
      "n = 6 є найменшим, при якому E[xi] >= 1 (E = 1.25000)\n"
     ]
    }
   ],
   "source": [
    "from itertools import product\n",
    "\n",
    "def count_pairs(assignment):\n",
    "    freq = [0] * 12\n",
    "    for month in assignment:\n",
    "        freq[month] += 1\n",
    "    pairs = sum(math.comb(f, 2) for f in freq)\n",
    "    return pairs\n",
    "\n",
    "def birthday_stats(n):\n",
    "    total = 12**n\n",
    "    sum_pairs = 0\n",
    "    sum_pairs_sq = 0\n",
    "    for assignment in product(range(12), repeat=n):\n",
    "        pairs = count_pairs(assignment)\n",
    "        sum_pairs += pairs\n",
    "        sum_pairs_sq += pairs**2\n",
    "    E = sum_pairs / total\n",
    "    E2 = sum_pairs_sq / total\n",
    "    var = E2 - E**2\n",
    "    return E, var\n",
    "\n",
    "print(\"Парадокс днів народження (повний перебір):\")\n",
    "for n in range(1, 7):\n",
    "    E, var = birthday_stats(n)\n",
    "    print(f\"n = {n}: E = {E:.5f}, Var = {var:.5f}\")\n",
    "for n in range(1, 20):\n",
    "    E, _ = birthday_stats(n)\n",
    "    if E >= 1:\n",
    "        print(f\"\\nn = {n} є найменшим, при якому E[xi] >= 1 (E = {E:.5f})\")\n",
    "        break"
   ]
  }
 ],
 "metadata": {
  "colab": {
   "provenance": [
   ]
  },
  "kernelspec": {
   "argv": [
    "/usr/bin/python3",
    "-m",
    "ipykernel",
    "--HistoryManager.enabled=False",
    "--matplotlib=inline",
    "-c",
    "%config InlineBackend.figure_formats = set(['retina'])\nimport matplotlib; matplotlib.rcParams['figure.figsize'] = (12, 7)",
    "-f",
    "{connection_file}"
   ],
   "display_name": "Python 3 (system-wide)",
   "env": {
   },
   "language": "python",
   "metadata": {
    "cocalc": {
     "description": "Python 3 programming language",
     "priority": 100,
     "url": "https://www.python.org/"
    }
   },
   "name": "python3",
   "resource_dir": "/ext/jupyter/kernels/python3"
  },
  "language_info": {
   "codemirror_mode": {
    "name": "ipython",
    "version": 3
   },
   "file_extension": ".py",
   "mimetype": "text/x-python",
   "name": "python",
   "nbconvert_exporter": "python",
   "pygments_lexer": "ipython3",
   "version": "3.10.12"
  }
 },
 "nbformat": 4,
 "nbformat_minor": 4
}