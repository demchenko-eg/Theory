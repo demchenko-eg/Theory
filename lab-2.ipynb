{
 "cells": [
  {
   "cell_type": "markdown",
   "metadata": {
    "id": "MF7AufKcwq0B"
   },
   "source": [
    "# Лабораторне заняття №2\n",
    "Знайомство з бібліотекою **NumPy**."
   ]
  },
  {
   "cell_type": "code",
   "execution_count": 140,
   "metadata": {
    "collapsed": true,
    "executionInfo": {
     "elapsed": 603,
     "status": "ok",
     "timestamp": 1738582441859,
     "user": {
      "displayName": "Олена Дегтяр",
      "userId": "02379196706787407849"
     },
     "user_tz": -120
    },
    "id": "vJuoe1Oxwq0E"
   },
   "outputs": [],
   "source": [
    "import numpy"
   ]
  },
  {
   "cell_type": "markdown",
   "metadata": {
    "id": "BGrHYZBBwq0G"
   },
   "source": [
    "## 1 Огляд функцій випадкового вибору"
   ]
  },
  {
   "cell_type": "markdown",
   "metadata": {
    "id": "dZHI7BlMwq0H"
   },
   "source": [
    "### 1.1 Функція *choice*\n",
    "Для детальної інформації див. [документацію](https://docs.scipy.org/doc/numpy-1.14.1/reference/generated/numpy.random.choice.html)."
   ]
  },
  {
   "cell_type": "code",
   "execution_count": 141,
   "metadata": {
    "id": "bHc5UlOKwq0I",
    "outputId": "cee054de-71ab-489d-f51b-9a6077f5eba9"
   },
   "outputs": [
    {
     "name": "stdout",
     "output_type": "stream",
     "text": [
      "['2' 'top' '4.5' 'top' 'bottom' 'top' 'top' '4.5' '2' '4.5']\n"
     ]
    }
   ],
   "source": [
    "a = [\"top\", 2, \"bottom\", 4.5]\n",
    "size = 10\n",
    "probs = [0.4, 0.2, 0.1, 0.3]\n",
    "replace = True\n",
    "print(numpy.random.choice(a, size=size, replace=replace, p=probs))"
   ]
  },
  {
   "cell_type": "markdown",
   "metadata": {
    "id": "lyRXFSquwq0K"
   },
   "source": [
    "Згенеруйте одну випадкову цифру, вважаючи їх рівноймовірними."
   ]
  },
  {
   "cell_type": "code",
   "execution_count": 142,
   "metadata": {
    "id": "kzXM-7Ifwq0L"
   },
   "outputs": [
    {
     "name": "stdout",
     "output_type": "stream",
     "text": [
      "4\n"
     ]
    }
   ],
   "source": [
    "import numpy\n",
    "print(numpy.random.choice(10))"
   ]
  },
  {
   "cell_type": "markdown",
   "metadata": {
    "id": "bqyE7Opnwq0M"
   },
   "source": [
    "Згенеруйте випадкову матрицю $4 \\times 6$ із рівноймовірних цифр."
   ]
  },
  {
   "cell_type": "code",
   "execution_count": 143,
   "metadata": {
    "id": "2pF6c-Z_wq0N"
   },
   "outputs": [
    {
     "name": "stdout",
     "output_type": "stream",
     "text": [
      "[[7 5 0 4 4 2]\n",
      " [7 8 5 5 1 9]\n",
      " [1 5 7 1 8 8]\n",
      " [3 3 3 4 7 1]]\n"
     ]
    }
   ],
   "source": [
    "import numpy\n",
    "print(numpy.random.choice(10, size=(4, 6)))"
   ]
  },
  {
   "cell_type": "markdown",
   "metadata": {
    "id": "6iXUlY1_wq0O"
   },
   "source": [
    "### 1.2 Функція *randint*\n",
    "Для детальної інформації див. [документацію](https://docs.scipy.org/doc/numpy-1.14.1/reference/generated/numpy.random.randint.html)."
   ]
  },
  {
   "cell_type": "code",
   "execution_count": 144,
   "metadata": {
    "colab": {
     "base_uri": "https://localhost:8080/"
    },
    "executionInfo": {
     "elapsed": 281,
     "status": "ok",
     "timestamp": 1738582449468,
     "user": {
      "displayName": "Олена Дегтяр",
      "userId": "02379196706787407849"
     },
     "user_tz": -120
    },
    "id": "xmHJX-uCwq0P",
    "outputId": "9b3dcb3a-59ad-4eb1-a573-72474df73dad"
   },
   "outputs": [
    {
     "name": "stdout",
     "output_type": "stream",
     "text": [
      "[2 4 1 2 2 0 2 3 2 3]\n"
     ]
    }
   ],
   "source": [
    "low = 0\n",
    "high = 5\n",
    "size = 10\n",
    "print(numpy.random.randint(low=low, high=high, size=size))"
   ]
  },
  {
   "cell_type": "markdown",
   "metadata": {
    "id": "i51wEIIiwq0Q"
   },
   "source": [
    "Згенеруйте одну випадкову цифру."
   ]
  },
  {
   "cell_type": "code",
   "execution_count": 145,
   "metadata": {
    "id": "DXVZI843wq0Q"
   },
   "outputs": [
    {
     "name": "stdout",
     "output_type": "stream",
     "text": [
      "6\n"
     ]
    }
   ],
   "source": [
    "# Місце для Вашого коду\n",
    "print(numpy.random.randint(10))"
   ]
  },
  {
   "cell_type": "markdown",
   "metadata": {
    "id": "6IgmrAvBwq0R"
   },
   "source": [
    "Згенеруйте випадкову матрицю $4 \\times 5$ із двоцифрових чисел."
   ]
  },
  {
   "cell_type": "markdown",
   "metadata": {
    "id": "vTfXM9N9mcBp"
   },
   "source": []
  },
  {
   "cell_type": "code",
   "execution_count": 146,
   "metadata": {
    "id": "x_bBrKjwwq0S"
   },
   "outputs": [
    {
     "name": "stdout",
     "output_type": "stream",
     "text": [
      "[[21 50 38 79 60]\n",
      " [32 40 30 33 81]\n",
      " [18 31 13 86 12]\n",
      " [37 99 24 17 57]]\n"
     ]
    }
   ],
   "source": [
    "# Місце для Вашого коду\n",
    "print(numpy.random.randint(low = 10, high = 100, size=(4, 5)))"
   ]
  },
  {
   "cell_type": "markdown",
   "metadata": {
    "id": "1HBVf0JUwq0T"
   },
   "source": [
    "### 1.3 Функція *sample*\n",
    "Для детальної інформації див. [документацію](https://docs.scipy.org/doc/numpy-1.14.1/reference/generated/numpy.random.sample.html)."
   ]
  },
  {
   "cell_type": "code",
   "execution_count": 147,
   "metadata": {
    "id": "RdsyrwNawq0T",
    "outputId": "bf1ac1da-aa3f-41da-996f-3a500b620cc8"
   },
   "outputs": [
    {
     "name": "stdout",
     "output_type": "stream",
     "text": [
      "0.7428037456552986\n"
     ]
    }
   ],
   "source": [
    "size = None\n",
    "print(numpy.random.sample(size=size))"
   ]
  },
  {
   "cell_type": "markdown",
   "metadata": {
    "id": "6-Pl2AFuwq0U"
   },
   "source": [
    "Згенеруйте випадкову матрицю $3 \\times 4$ із чисел з інтервалу $[0, 1)$."
   ]
  },
  {
   "cell_type": "code",
   "execution_count": 148,
   "metadata": {
    "colab": {
     "base_uri": "https://localhost:8080/"
    },
    "executionInfo": {
     "elapsed": 342,
     "status": "ok",
     "timestamp": 1738582677120,
     "user": {
      "displayName": "Олена Дегтяр",
      "userId": "02379196706787407849"
     },
     "user_tz": -120
    },
    "id": "A-kwYD5Uwq0V",
    "outputId": "bd6d200a-00e6-461c-a6e2-46e0092ffc59"
   },
   "outputs": [
    {
     "name": "stdout",
     "output_type": "stream",
     "text": [
      "[[0.06662696 0.92398941 0.26395847 0.36672069]\n",
      " [0.04836247 0.65313641 0.7089228  0.92879122]\n",
      " [0.336829   0.25736873 0.7260865  0.70680089]]\n"
     ]
    }
   ],
   "source": [
    "print(numpy.random.sample(size=(3,4)))"
   ]
  },
  {
   "cell_type": "markdown",
   "metadata": {
    "id": "tQDwMHozwq0X"
   },
   "source": [
    "### 1.4 Функція *shuffle*\n",
    "Для детальної інформації див. [документацію](https://docs.scipy.org/doc/numpy-1.14.1/reference/generated/numpy.random.shuffle.html)."
   ]
  },
  {
   "cell_type": "markdown",
   "metadata": {
    "id": "uCXRCT-5MTLy"
   },
   "source": []
  },
  {
   "cell_type": "code",
   "execution_count": 149,
   "metadata": {
    "colab": {
     "base_uri": "https://localhost:8080/"
    },
    "executionInfo": {
     "elapsed": 291,
     "status": "ok",
     "timestamp": 1738582730819,
     "user": {
      "displayName": "Олена Дегтяр",
      "userId": "02379196706787407849"
     },
     "user_tz": -120
    },
    "id": "nHWhGV2Gwq0Y",
    "outputId": "6a0e145f-682a-4d8b-e744-b3288056a805"
   },
   "outputs": [
    {
     "name": "stdout",
     "output_type": "stream",
     "text": [
      "[0 7 2 4 5 3 8 6 9 1]\n"
     ]
    }
   ],
   "source": [
    "x = numpy.arange(10)\n",
    "numpy.random.shuffle(x)\n",
    "print(x)"
   ]
  },
  {
   "cell_type": "markdown",
   "metadata": {
    "id": "CLM8-iqZwq0Y"
   },
   "source": [
    "Перетасуйте матрицю $M$."
   ]
  },
  {
   "cell_type": "code",
   "execution_count": 150,
   "metadata": {
    "colab": {
     "base_uri": "https://localhost:8080/"
    },
    "executionInfo": {
     "elapsed": 280,
     "status": "ok",
     "timestamp": 1738582749490,
     "user": {
      "displayName": "Олена Дегтяр",
      "userId": "02379196706787407849"
     },
     "user_tz": -120
    },
    "id": "M2AEluNxwq0Z",
    "outputId": "1aff958d-e6ab-4416-f99d-2d7f8b60b940"
   },
   "outputs": [
    {
     "name": "stdout",
     "output_type": "stream",
     "text": [
      "[[ 0  1  2  3  4]\n",
      " [ 5  6  7  8  9]\n",
      " [10 11 12 13 14]\n",
      " [15 16 17 18 19]]\n"
     ]
    }
   ],
   "source": [
    "M = numpy.arange(20).reshape((4, 5))\n",
    "print(M)"
   ]
  },
  {
   "cell_type": "code",
   "execution_count": 151,
   "metadata": {
    "id": "39f_Xy5Xwq0a",
    "outputId": "11d35e56-1e00-4cef-9be2-492db70e8c94"
   },
   "outputs": [
    {
     "name": "stdout",
     "output_type": "stream",
     "text": [
      "[[ 5  6  7  8  9]\n",
      " [10 11 12 13 14]\n",
      " [15 16 17 18 19]\n",
      " [ 0  1  2  3  4]]\n"
     ]
    }
   ],
   "source": [
    "numpy.random.shuffle(M)\n",
    "print(M)"
   ]
  },
  {
   "cell_type": "markdown",
   "metadata": {
    "id": "rmTgFGjJwq0a"
   },
   "source": [
    "## 2 Відтворюваність результатів\n",
    "Можна задати початкове значення для генератора. Це зафіксує \"випадкову\" послідовність."
   ]
  },
  {
   "cell_type": "code",
   "execution_count": 152,
   "metadata": {
    "colab": {
     "base_uri": "https://localhost:8080/"
    },
    "executionInfo": {
     "elapsed": 257,
     "status": "ok",
     "timestamp": 1738582776677,
     "user": {
      "displayName": "Олена Дегтяр",
      "userId": "02379196706787407849"
     },
     "user_tz": -120
    },
    "id": "_ntlXH6Vwq0b",
    "outputId": "7c8b23d5-2bc4-4362-9afb-7fbb860ce3b7"
   },
   "outputs": [
    {
     "name": "stdout",
     "output_type": "stream",
     "text": [
      "0\n"
     ]
    }
   ],
   "source": [
    "print(numpy.random.randint(10))"
   ]
  },
  {
   "cell_type": "code",
   "execution_count": 153,
   "metadata": {
    "id": "bHaFjgI3wq0d",
    "outputId": "e44c5c6d-e6db-4c63-e3f8-6f27f5ab3638"
   },
   "outputs": [
    {
     "name": "stdout",
     "output_type": "stream",
     "text": [
      "[6 3 7 4 6 9 2 6 7 4]\n",
      "['l' 'l' 'l' 'b' 'r' 't' 'r' 'l' 'l' 'r']\n"
     ]
    }
   ],
   "source": [
    "numpy.random.seed(42)\n",
    "print(numpy.random.randint(10, size=10))\n",
    "print(numpy.random.choice(['t', 'r', 'b', 'l'], size=10))"
   ]
  },
  {
   "cell_type": "markdown",
   "metadata": {
    "id": "sZsLao4swq0e"
   },
   "source": [
    "## 3 Монетка"
   ]
  },
  {
   "cell_type": "markdown",
   "metadata": {
    "id": "NBiHrwObwq0f"
   },
   "source": [
    "### 3.1 За допомогою функції *choice*"
   ]
  },
  {
   "cell_type": "code",
   "execution_count": 154,
   "metadata": {
    "colab": {
     "base_uri": "https://localhost:8080/"
    },
    "executionInfo": {
     "elapsed": 309,
     "status": "ok",
     "timestamp": 1738582832466,
     "user": {
      "displayName": "Олена Дегтяр",
      "userId": "02379196706787407849"
     },
     "user_tz": -120
    },
    "id": "fA0dkeCJwq0f",
    "outputId": "199a76c3-326d-4b7a-bfcf-2205eb0dc89e"
   },
   "outputs": [
    {
     "name": "stdout",
     "output_type": "stream",
     "text": [
      "['H' 'H' 'H' 'H' 'T' 'H' 'H' 'T' 'H' 'H']\n"
     ]
    }
   ],
   "source": [
    "p=0.5\n",
    "n=10\n",
    "tosses=numpy.random.choice([\"H\",\"T\"],p=[p,1-p], size=n)\n",
    "print(tosses)"
   ]
  },
  {
   "cell_type": "code",
   "execution_count": 155,
   "metadata": {
    "colab": {
     "base_uri": "https://localhost:8080/"
    },
    "executionInfo": {
     "elapsed": 280,
     "status": "ok",
     "timestamp": 1738582845765,
     "user": {
      "displayName": "Олена Дегтяр",
      "userId": "02379196706787407849"
     },
     "user_tz": -120
    },
    "id": "xjN_EjG_wq0g",
    "outputId": "d8af1e7f-31d5-42cf-e046-d1513f071c92"
   },
   "outputs": [
    {
     "name": "stdout",
     "output_type": "stream",
     "text": [
      "8 heads and 2 tails\n"
     ]
    }
   ],
   "source": [
    "heads = list(tosses).count(\"H\")\n",
    "tails = list(tosses).count(\"T\")\n",
    "\n",
    "print(\"{} heads and {} tails\".format(heads,tails))"
   ]
  },
  {
   "cell_type": "markdown",
   "metadata": {
    "id": "y3j29vYiwq0g"
   },
   "source": [
    "Просимулюйте $100$ підкидань монетки та підрахуйте кількість кожної із сторін."
   ]
  },
  {
   "cell_type": "code",
   "execution_count": 156,
   "metadata": {
    "id": "JWpKpnqUwq0h",
    "outputId": "5dca78b4-95b4-42db-fe7b-085ce4c034a6"
   },
   "outputs": [
    {
     "name": "stdout",
     "output_type": "stream",
     "text": [
      "43 heads and 57 tails\n"
     ]
    }
   ],
   "source": [
    "tosses = numpy.random.choice([\"H\",\"T\"], size=100)\n",
    "heads = list(tosses).count(\"H\")\n",
    "tails = list(tosses).count(\"T\")\n",
    "\n",
    "print(\"{} heads and {} tails\".format(heads,tails))"
   ]
  },
  {
   "cell_type": "markdown",
   "metadata": {
    "id": "fCAWX33Nwq0h"
   },
   "source": [
    "### 3.2 За допомогою функції *randint*\n",
    "Реалізуйте симуляцію підкидань монетки за допомогою функції **randint**. Просимулюйте $100$ підкидань монетки та підрахуйте кількість кожної із сторін."
   ]
  },
  {
   "cell_type": "code",
   "execution_count": 157,
   "metadata": {
    "id": "SiVW291Wwq0i",
    "outputId": "dd1cf212-feb9-4c00-ff9c-3f087d78b789"
   },
   "outputs": [
    {
     "name": "stdout",
     "output_type": "stream",
     "text": [
      "43 heads and 57 tails\n"
     ]
    }
   ],
   "source": [
    "tosses = numpy.random.randint(2, size=100)\n",
    "print(\"{} heads and {} tails\".format(sum(tosses == 1),sum(tosses == 0)))"
   ]
  },
  {
   "cell_type": "markdown",
   "metadata": {
    "id": "VwUV_Kjvwq0j"
   },
   "source": [
    "### 3.3 За допомогою функції *sample*\n",
    "Реалізуйте симуляцію підкидань монетки за допомогою функції **sample**. Просимулюйте $100$ підкидань монетки та підрахуйте кількість кожної із сторін."
   ]
  },
  {
   "cell_type": "code",
   "execution_count": 158,
   "metadata": {
    "id": "WYazVDCHwq0j",
    "outputId": "0e908081-ec9e-44e2-bbea-95c8a15c3f29"
   },
   "outputs": [
    {
     "name": "stdout",
     "output_type": "stream",
     "text": [
      "51 heads and 49 tails\n"
     ]
    }
   ],
   "source": [
    "tosses = numpy.round(numpy.random.sample(100))\n",
    "print(\"{} heads and {} tails\".format(sum(tosses == 1),sum(tosses == 0)))"
   ]
  },
  {
   "cell_type": "markdown",
   "metadata": {
    "id": "kyINZ0FUwq0k"
   },
   "source": [
    "### 3.4 Задача\n",
    "Знайдіть емпіричну ймовірність герба у симуляціях підкидання монетки $n = 10, 50, 100, 250, 500, 1000, 2500, 5000, 10000$ разів."
   ]
  },
  {
   "cell_type": "code",
   "execution_count": 159,
   "metadata": {
    "id": "sTO0-MC8wq0k",
    "outputId": "64d9bace-3156-4ee4-ddf7-a7f30ce3eaff"
   },
   "outputs": [
    {
     "name": "stdout",
     "output_type": "stream",
     "text": [
      "n = 10  :  P(head) = 0.6,  P(tail) = 0.4\n",
      "n = 50  :  P(head) = 0.44,  P(tail) = 0.56\n",
      "n = 100  :  P(head) = 0.58,  P(tail) = 0.42\n",
      "n = 250  :  P(head) = 0.484,  P(tail) = 0.516\n",
      "n = 500  :  P(head) = 0.48,  P(tail) = 0.52\n",
      "n = 1000  :  P(head) = 0.474,  P(tail) = 0.526\n",
      "n = 2500  :  P(head) = 0.5128,  P(tail) = 0.4872\n",
      "n = 5000  :  P(head) = 0.4928,  P(tail) = 0.5072\n",
      "n = 10000  :  P(head) = 0.501,  P(tail) = 0.499\n"
     ]
    }
   ],
   "source": [
    "params = [10, 50, 100, 250, 500, 1000, 2500, 5000, 10000]\n",
    "for n in params:\n",
    "    tosses = numpy.random.randint(2, size=n)\n",
    "    heads_prob = sum(tosses == 1) / n\n",
    "    tails_prob = sum(tosses == 0) / n\n",
    "    print('n = {}  :  P(head) = {},  P(tail) = {}'.format(n, heads_prob, tails_prob))"
   ]
  },
  {
   "cell_type": "markdown",
   "metadata": {
    "id": "flGOI6BVwq0k"
   },
   "source": [
    "## 4 Гральний кубик\n",
    "### 4.1 Реалізація симуляцій\n",
    "Реалізуйте симуляцію кидків грального кубика за допомогою функції **???**. Просимулюйте $60$ кидків кубика та підрахуйте кількість кожної із сторін."
   ]
  },
  {
   "cell_type": "code",
   "execution_count": 160,
   "metadata": {
    "id": "HJAh_Chrwq0l"
   },
   "outputs": [
    {
     "name": "stdout",
     "output_type": "stream",
     "text": [
      "[0 3 3 0 0 1 3 1 5 0 4 4 5 0 3 4 3 4 3 4 3 5 1 3 1 1 0 5 1 2 1 3 1 3 3 2 1\n",
      " 1 4 4 0 3 2 4 1 0 2 5 1 1 5 3 3 4 4 1 1 4 5 4]\n",
      "1 = 8 times, 2 = 15 times, 3 = 4 times\n"
     ]
    }
   ],
   "source": [
    "def find(arr, target):\n",
    "  counter = 0\n",
    "  for el in arr:\n",
    "    if el == target:\n",
    "      counter +=1\n",
    "  return counter\n",
    "t = numpy.random.randint(6, size=60)\n",
    "print(t)\n",
    "print(f'1 = {find(t, 0)} times, 2 = {find(t, 1)} times, 3 = {find(t, 2)} times')"
   ]
  },
  {
   "cell_type": "markdown",
   "metadata": {
    "id": "fqIPXlpnwq0l"
   },
   "source": [
    "### 4.2 Задача\n",
    "Знайдіть емпіричну ймовірність кожної сторони у симуляціях кидання грального кубика $n = 10, 50, 100, 250, 500, 1000, 2500, 5000, 10000$ разів."
   ]
  },
  {
   "cell_type": "code",
   "execution_count": 161,
   "metadata": {
    "id": "FzMye6lJwq0m"
   },
   "outputs": [
    {
     "name": "stdout",
     "output_type": "stream",
     "text": [
      "n = 10\n",
      "  Side 1: 0.1000\n",
      "  Side 2: 0.4000\n",
      "  Side 3: 0.3000\n",
      "  Side 4: 0.1000\n",
      "  Side 5: 0.1000\n",
      "\n",
      "n = 50\n",
      "  Side 1: 0.2200\n",
      "  Side 2: 0.0800\n",
      "  Side 3: 0.2000\n",
      "  Side 4: 0.1600\n",
      "  Side 5: 0.1000\n",
      "  Side 6: 0.2400\n",
      "\n",
      "n = 100\n",
      "  Side 1: 0.1100\n",
      "  Side 2: 0.1500\n",
      "  Side 3: 0.2200\n",
      "  Side 4: 0.1500\n",
      "  Side 5: 0.2000\n",
      "  Side 6: 0.1700\n",
      "\n",
      "n = 250\n",
      "  Side 1: 0.1800\n",
      "  Side 2: 0.1520\n",
      "  Side 3: 0.1560\n",
      "  Side 4: 0.1920\n",
      "  Side 5: 0.1720\n",
      "  Side 6: 0.1480\n",
      "\n",
      "n = 500\n",
      "  Side 1: 0.1700\n",
      "  Side 2: 0.1560\n",
      "  Side 3: 0.1540\n",
      "  Side 4: 0.1760\n",
      "  Side 5: 0.1380\n",
      "  Side 6: 0.2060\n",
      "\n",
      "n = 1000\n",
      "  Side 1: 0.1560\n",
      "  Side 2: 0.1820\n",
      "  Side 3: 0.1600\n",
      "  Side 4: 0.1660\n",
      "  Side 5: 0.1650\n",
      "  Side 6: 0.1710\n",
      "\n",
      "n = 2500\n",
      "  Side 1: 0.1688\n",
      "  Side 2: 0.1696\n",
      "  Side 3: 0.1588\n",
      "  Side 4: 0.1692\n",
      "  Side 5: 0.1700\n",
      "  Side 6: 0.1636\n",
      "\n",
      "n = 5000\n",
      "  Side 1: 0.1722\n",
      "  Side 2: 0.1762\n",
      "  Side 3: 0.1616\n",
      "  Side 4: 0.1586\n",
      "  Side 5: 0.1620\n",
      "  Side 6: 0.1694\n",
      "\n",
      "n = 10000\n",
      "  Side 1: 0.1631\n",
      "  Side 2: 0.1613\n",
      "  Side 3: 0.1623\n",
      "  Side 4: 0.1739\n",
      "  Side 5: 0.1761\n",
      "  Side 6: 0.1633\n",
      "\n"
     ]
    }
   ],
   "source": [
    "n_values = [10, 50, 100, 250, 500, 1000, 2500, 5000, 10000]\n",
    "for n in n_values:\n",
    "    rolls = numpy.random.randint(1, 7, size=n)\n",
    "    unique, counts = numpy.unique(rolls, return_counts=True)\n",
    "    probabilities = counts / n\n",
    "    print(f\"n = {n}\")\n",
    "    for face, prob in zip(unique, probabilities):\n",
    "        print(f\"  Side {face}: {prob:.4f}\")\n",
    "    print()"
   ]
  },
  {
   "cell_type": "markdown",
   "metadata": {
    "id": "Wyxeb5qBwq0m"
   },
   "source": [
    "## 5 Колода карт\n",
    "### 5.1 Реалізація"
   ]
  },
  {
   "cell_type": "code",
   "execution_count": 162,
   "metadata": {
    "id": "D9ukAHcNwq0m",
    "outputId": "116a1b8d-884a-43fc-9f54-246675fed2ba"
   },
   "outputs": [
    {
     "name": "stdout",
     "output_type": "stream",
     "text": [
      "[('J', '♢'), ('J', '♣'), ('J', '♡'), ('J', '♠'), ('7', '♢'), ('7', '♣'), ('7', '♡'), ('7', '♠'), ('3', '♢'), ('3', '♣'), ('3', '♡'), ('3', '♠'), ('4', '♢'), ('4', '♣'), ('4', '♡'), ('4', '♠'), ('6', '♢'), ('6', '♣'), ('6', '♡'), ('6', '♠'), ('10', '♢'), ('10', '♣'), ('10', '♡'), ('10', '♠'), ('1', '♢'), ('1', '♣'), ('1', '♡'), ('1', '♠'), ('K', '♢'), ('K', '♣'), ('K', '♡'), ('K', '♠'), ('5', '♢'), ('5', '♣'), ('5', '♡'), ('5', '♠'), ('8', '♢'), ('8', '♣'), ('8', '♡'), ('8', '♠'), ('9', '♢'), ('9', '♣'), ('9', '♡'), ('9', '♠'), ('2', '♢'), ('2', '♣'), ('2', '♡'), ('2', '♠'), ('Q', '♢'), ('Q', '♣'), ('Q', '♡'), ('Q', '♠')]\n"
     ]
    }
   ],
   "source": [
    "# Визначимо номінали, масті та карти\n",
    "Ranks = {'1', '2', '3', '4', '5', '6', '7', '8', '9', '10', 'J', 'Q', 'K'}\n",
    "Suits = {'♢', '♠', '♣', '♡'}\n",
    "# Створимо колоду карт\n",
    "Cards = [(Rank, Suit) for Rank in Ranks for Suit in Suits]\n",
    "print(Cards)"
   ]
  },
  {
   "cell_type": "code",
   "execution_count": 163,
   "metadata": {
    "id": "PKLc0EWQwq0n",
    "outputId": "2dc2e1bd-f0d8-431b-8cfc-a85e5af13d00"
   },
   "outputs": [
    {
     "name": "stdout",
     "output_type": "stream",
     "text": [
      "J♢, J♣, J♡, J♠, 7♢, 7♣, 7♡, 7♠, 3♢, 3♣, 3♡, 3♠, 4♢, 4♣, 4♡, 4♠, 6♢, 6♣, 6♡, 6♠, 10♢, 10♣, 10♡, 10♠, 1♢, 1♣, 1♡, 1♠, K♢, K♣, K♡, K♠, 5♢, 5♣, 5♡, 5♠, 8♢, 8♣, 8♡, 8♠, 9♢, 9♣, 9♡, 9♠, 2♢, 2♣, 2♡, 2♠, Q♢, Q♣, Q♡, Q♠\n"
     ]
    }
   ],
   "source": [
    "# Інший вівід результату\n",
    "print(', '.join([(card[0] + card[1]) for card in Cards]))"
   ]
  },
  {
   "cell_type": "code",
   "execution_count": 164,
   "metadata": {
    "id": "lxwXWwBkwq0n",
    "outputId": "28def143-a800-408c-9378-aa9b85968945"
   },
   "outputs": [
    {
     "name": "stdout",
     "output_type": "stream",
     "text": [
      "♢J, ♢7, ♢3, ♢4, ♢6, ♢10, ♢1, ♢K, ♢5, ♢8, ♢9, ♢2, ♢Q\n",
      "♣J, ♣7, ♣3, ♣4, ♣6, ♣10, ♣1, ♣K, ♣5, ♣8, ♣9, ♣2, ♣Q\n",
      "♡J, ♡7, ♡3, ♡4, ♡6, ♡10, ♡1, ♡K, ♡5, ♡8, ♡9, ♡2, ♡Q\n",
      "♠J, ♠7, ♠3, ♠4, ♠6, ♠10, ♠1, ♠K, ♠5, ♠8, ♠9, ♠2, ♠Q\n"
     ]
    }
   ],
   "source": [
    "# Або згрупувавши по мастях\n",
    "for suit in Suits:\n",
    "    print(\", \".join([(suit+rank) for rank in Ranks]))"
   ]
  },
  {
   "cell_type": "code",
   "execution_count": 165,
   "metadata": {
    "id": "ZkcXViEVwq0o",
    "outputId": "9005e36e-ccfe-4cef-e1b5-2aad11386653"
   },
   "outputs": [
    {
     "name": "stdout",
     "output_type": "stream",
     "text": [
      "[('5', '♣'), ('7', '♡'), ('8', '♡'), ('Q', '♢'), ('10', '♡'), ('8', '♢'), ('7', '♠'), ('9', '♠'), ('J', '♠'), ('Q', '♣'), ('K', '♣'), ('6', '♣'), ('6', '♢'), ('4', '♣'), ('7', '♣'), ('10', '♠'), ('3', '♡'), ('4', '♠'), ('1', '♣'), ('4', '♡'), ('1', '♡'), ('9', '♣'), ('J', '♢'), ('6', '♠'), ('3', '♢'), ('6', '♡'), ('9', '♡'), ('1', '♢'), ('K', '♡'), ('J', '♡'), ('8', '♣'), ('K', '♢'), ('J', '♣'), ('10', '♣'), ('8', '♠'), ('Q', '♠'), ('1', '♠'), ('5', '♠'), ('5', '♡'), ('2', '♣'), ('2', '♡'), ('9', '♢'), ('5', '♢'), ('10', '♢'), ('4', '♢'), ('3', '♠'), ('K', '♠'), ('3', '♣'), ('2', '♠'), ('7', '♢'), ('Q', '♡'), ('2', '♢')]\n"
     ]
    }
   ],
   "source": [
    "# Перемішаємо колоду\n",
    "numpy.random.shuffle(Cards)\n",
    "\n",
    "print(Cards)"
   ]
  },
  {
   "cell_type": "markdown",
   "metadata": {
    "id": "KxtkDoiLwq0q"
   },
   "source": [
    "### 5.2 Задача\n",
    "Знайдіть емпіричну ймовірність карти парного числа (2, 4, 6, 8, 10) у симуляціях вибору однієї карти з колоди 52 карт $n = 10, 50, 100, 250, 500, 1000, 2500, 5000, 10000$ разів."
   ]
  },
  {
   "cell_type": "code",
   "execution_count": 166,
   "metadata": {
    "id": "RN7nBe0Ewq0q"
   },
   "outputs": [
    {
     "name": "stdout",
     "output_type": "stream",
     "text": [
      "n = 10, Probability of even card: 0.6000\n",
      "n = 50, Probability of even card: 0.4000\n",
      "n = 100, Probability of even card: 0.3900\n",
      "n = 250, Probability of even card: 0.4600\n",
      "n = 500, Probability of even card: 0.3920\n",
      "n = 1000, Probability of even card: 0.3890\n",
      "n = 2500, Probability of even card: 0.3888\n",
      "n = 5000, Probability of even card: 0.3804\n",
      "n = 10000, Probability of even card: 0.3803\n"
     ]
    }
   ],
   "source": [
    "import random\n",
    "Ranks = {'1', '2', '3', '4', '5', '6', '7', '8', '9', '10', 'J', 'Q', 'K'}\n",
    "Suits = {'♢', '♠', '♣', '♡'}\n",
    "Cards = [(Rank, Suit) for Rank in Ranks for Suit in Suits]\n",
    "n_values = [10, 50, 100, 250, 500, 1000, 2500, 5000, 10000]\n",
    "even_ranks = {'2', '4', '6', '8', '10'}\n",
    "for n in n_values:\n",
    "    selected_cards = random.choices(Cards, k=n)\n",
    "    even_count = sum(1 for rank, suit in selected_cards if rank in even_ranks)\n",
    "    probability = even_count / n\n",
    "    print(f\"n = {n}, Probability of even card: {probability:.4f}\")"
   ]
  },
  {
   "cell_type": "markdown",
   "metadata": {
    "id": "Cz58jFxbwq0s"
   },
   "source": [
    "### 5.3 Задача\n",
    "Випадковим чином роздайте колоду з 52 карт чотирьом гравцям (кожному по 13 карт) так, щоб кожен з них мав 4 карти однієї масті та по 3 карти інших мастей. Наприклад, {♣5, ♣10, ♣8, ♣4, ♠4, ♠J, ♠3, ♢Q, ♢7, ♢K, ♡9, ♡1, ♡5}."
   ]
  },
  {
   "cell_type": "code",
   "execution_count": 167,
   "metadata": {
    "collapsed": true,
    "id": "IRtOR_BNwq00"
   },
   "outputs": [
    {
     "name": "stdout",
     "output_type": "stream",
     "text": [
      "Player 1: [('6', '♢'), ('K', '♣'), ('1', '♡'), ('K', '♠'), ('3', '♢'), ('9', '♣'), ('J', '♡'), ('1', '♠'), ('5', '♢'), ('5', '♣'), ('3', '♡'), ('8', '♠'), ('2', '♢')]\n",
      "Player 2: [('7', '♢'), ('8', '♣'), ('9', '♡'), ('6', '♠'), ('4', '♢'), ('J', '♣'), ('2', '♡'), ('4', '♠'), ('1', '♢'), ('4', '♣'), ('6', '♡'), ('2', '♠'), ('J', '♢')]\n",
      "Player 3: [('10', '♢'), ('3', '♣'), ('K', '♡'), ('Q', '♠'), ('Q', '♢'), ('10', '♣'), ('8', '♡'), ('7', '♠'), ('K', '♢'), ('7', '♣'), ('10', '♡'), ('5', '♠'), ('8', '♢')]\n",
      "Player 4: [('9', '♢'), ('Q', '♣'), ('7', '♡'), ('3', '♠'), ('2', '♣'), ('5', '♡'), ('10', '♠'), ('6', '♣'), ('Q', '♡'), ('9', '♠'), ('1', '♣'), ('4', '♡'), ('J', '♠')]\n"
     ]
    }
   ],
   "source": [
    "def deal_cards():\n",
    "    deck = Cards.copy()\n",
    "    numpy.random.shuffle(deck)\n",
    "    players = [[] for _ in range(4)]\n",
    "    for i in range(4):\n",
    "        suit_counts = {suit: 0 for suit in Suits}\n",
    "        while len(players[i]) < 13:\n",
    "            for suit in Suits:\n",
    "                if suit_counts[suit] < 4 and len(players[i]) < 13:\n",
    "                    for card in deck:\n",
    "                        if card[1] == suit:\n",
    "                            players[i].append(card)\n",
    "                            deck.remove(card)\n",
    "                            suit_counts[suit] += 1\n",
    "                            break\n",
    "            for suit in Suits:\n",
    "                if suit_counts[suit] < 3 and len(players[i]) < 13:\n",
    "                    for card in deck:\n",
    "                        if card[1] == suit:\n",
    "                            players[i].append(card)\n",
    "                            deck.remove(card)\n",
    "                            suit_counts[suit] += 1\n",
    "                            break\n",
    "    return players\n",
    "\n",
    "players = deal_cards()\n",
    "for i, hand in enumerate(players):\n",
    "    print(f\"Player {i+1}: {hand}\")\n"
   ]
  }
 ],
 "metadata": {
  "colab": {
   "provenance": []
  },
  "kernelspec": {
   "display_name": "Python 3",
   "language": "python",
   "name": "python3"
  },
  "language_info": {
   "codemirror_mode": {
    "name": "ipython",
    "version": 3
   },
   "file_extension": ".py",
   "mimetype": "text/x-python",
   "name": "python",
   "nbconvert_exporter": "python",
   "pygments_lexer": "ipython3",
   "version": "3.12.5"
  }
 },
 "nbformat": 4,
 "nbformat_minor": 0
}
